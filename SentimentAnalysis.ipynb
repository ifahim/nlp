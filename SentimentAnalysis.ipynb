{
 "cells": [
  {
   "cell_type": "code",
   "execution_count": 1,
   "metadata": {},
   "outputs": [],
   "source": [
    "import twitter"
   ]
  },
  {
   "cell_type": "code",
   "execution_count": 6,
   "metadata": {},
   "outputs": [],
   "source": [
    "api = twitter.Api(consumer_key='NWEMlDFaUUaMJXboGHoNyaPJB',\n",
    "                 consumer_secret='VwI1iV1eZ20N5z4UbuSOpCqonoE344DnPFsJDW8rKVpitr6O4g',\n",
    "                 access_token_key='1355881-cRRUr9TwNlIM7z0UunZDjHukJVWkOkvPulV2ZerB0p',\n",
    "                 access_token_secret='heqkCnkvYVjpOGZbTC1dV6gk97qlSSoRGMnCyEhRTvLR0')\n"
   ]
  },
  {
   "cell_type": "code",
   "execution_count": 7,
   "metadata": {},
   "outputs": [
    {
     "name": "stdout",
     "output_type": "stream",
     "text": [
      "{\"created_at\": \"Sat Mar 17 14:40:04 +0000 2007\", \"favourites_count\": 2, \"followers_count\": 5, \"friends_count\": 41, \"id\": 1355881, \"lang\": \"en\", \"name\": \"Joseph Batz\", \"profile_background_color\": \"9AE4E8\", \"profile_background_image_url\": \"http://abs.twimg.com/images/themes/theme1/bg.png\", \"profile_image_url\": \"http://pbs.twimg.com/profile_images/573916308951060480/aNArrcH3_normal.jpeg\", \"profile_link_color\": \"89C9FA\", \"profile_sidebar_fill_color\": \"E0FF92\", \"profile_text_color\": \"000000\", \"protected\": true, \"screen_name\": \"jbatz\", \"status\": {\"created_at\": \"Fri Mar 11 21:27:25 +0000 2016\", \"id\": 708403982708813824, \"id_str\": \"708403982708813824\", \"lang\": \"en\", \"source\": \"<a href=\\\"http://twitter.com\\\" rel=\\\"nofollow\\\">Twitter Web Client</a>\", \"text\": \"Flying with python: https://t.co/Hb1rBbYeHt\"}, \"statuses_count\": 12, \"time_zone\": \"Pacific Time (US & Canada)\", \"utc_offset\": -28800}\n"
     ]
    }
   ],
   "source": [
    "print(api.VerifyCredentials())"
   ]
  },
  {
   "cell_type": "code",
   "execution_count": null,
   "metadata": {
    "collapsed": true
   },
   "outputs": [],
   "source": []
  }
 ],
 "metadata": {
  "kernelspec": {
   "display_name": "Python [default]",
   "language": "python",
   "name": "python3"
  },
  "language_info": {
   "codemirror_mode": {
    "name": "ipython",
    "version": 3
   },
   "file_extension": ".py",
   "mimetype": "text/x-python",
   "name": "python",
   "nbconvert_exporter": "python",
   "pygments_lexer": "ipython3",
   "version": "3.6.2"
  }
 },
 "nbformat": 4,
 "nbformat_minor": 1
}
