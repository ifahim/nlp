{
 "cells": [
  {
   "cell_type": "markdown",
   "metadata": {},
   "source": [
    "# Introduction.\n",
    "\n",
    "These are some (modest) attempts at participating in Jigsaw's toxic comments classification problem. For now, I am not using any external data, only the training data given (which is limiting as it's a tiny dataset)."
   ]
  },
  {
   "cell_type": "code",
   "execution_count": 1,
   "metadata": {},
   "outputs": [
    {
     "name": "stderr",
     "output_type": "stream",
     "text": [
      "Using TensorFlow backend.\n"
     ]
    }
   ],
   "source": [
    "import seaborn as sns\n",
    "import matplotlib.pyplot as plt\n",
    "%matplotlib inline\n",
    "import gensim\n",
    "import keras\n",
    "import numpy as np\n",
    "import pandas as pd\n",
    "from sklearn.feature_extraction.text import ENGLISH_STOP_WORDS\n",
    "import re\n",
    "from keras.models import Sequential\n",
    "from keras.layers import Dense\n",
    "from keras.optimizers import Adam"
   ]
  },
  {
   "cell_type": "markdown",
   "metadata": {},
   "source": [
    "# Load Data"
   ]
  },
  {
   "cell_type": "code",
   "execution_count": 2,
   "metadata": {
    "collapsed": true
   },
   "outputs": [],
   "source": [
    "df = pd.read_csv('data/toxicity_annotated_comments_unanimous.tsv', sep='\\t')"
   ]
  },
  {
   "cell_type": "code",
   "execution_count": 3,
   "metadata": {},
   "outputs": [
    {
     "data": {
      "text/html": [
       "<div>\n",
       "<style scoped>\n",
       "    .dataframe tbody tr th:only-of-type {\n",
       "        vertical-align: middle;\n",
       "    }\n",
       "\n",
       "    .dataframe tbody tr th {\n",
       "        vertical-align: top;\n",
       "    }\n",
       "\n",
       "    .dataframe thead th {\n",
       "        text-align: right;\n",
       "    }\n",
       "</style>\n",
       "<table border=\"1\" class=\"dataframe\">\n",
       "  <thead>\n",
       "    <tr style=\"text-align: right;\">\n",
       "      <th></th>\n",
       "      <th>rev_id</th>\n",
       "      <th>comment</th>\n",
       "      <th>year</th>\n",
       "      <th>logged_in</th>\n",
       "      <th>ns</th>\n",
       "      <th>sample</th>\n",
       "      <th>split</th>\n",
       "    </tr>\n",
       "  </thead>\n",
       "  <tbody>\n",
       "    <tr>\n",
       "      <th>0</th>\n",
       "      <td>527004.0</td>\n",
       "      <td>NEWLINE_TOKENNEWLINE_TOKENNEWLINE_TOKENNEWLINE...</td>\n",
       "      <td>2002</td>\n",
       "      <td>True</td>\n",
       "      <td>user</td>\n",
       "      <td>random</td>\n",
       "      <td>test</td>\n",
       "    </tr>\n",
       "    <tr>\n",
       "      <th>1</th>\n",
       "      <td>603474.0</td>\n",
       "      <td>`:Here I cannot answer your questions.  I did ...</td>\n",
       "      <td>2003</td>\n",
       "      <td>True</td>\n",
       "      <td>article</td>\n",
       "      <td>random</td>\n",
       "      <td>train</td>\n",
       "    </tr>\n",
       "    <tr>\n",
       "      <th>2</th>\n",
       "      <td>808576.0</td>\n",
       "      <td>NEWLINE_TOKENNEWLINE_TOKENIn fact, I've just d...</td>\n",
       "      <td>2003</td>\n",
       "      <td>True</td>\n",
       "      <td>user</td>\n",
       "      <td>random</td>\n",
       "      <td>dev</td>\n",
       "    </tr>\n",
       "    <tr>\n",
       "      <th>3</th>\n",
       "      <td>986363.0</td>\n",
       "      <td>16:13 1 Jun 2003 (UTC)</td>\n",
       "      <td>2003</td>\n",
       "      <td>True</td>\n",
       "      <td>article</td>\n",
       "      <td>random</td>\n",
       "      <td>train</td>\n",
       "    </tr>\n",
       "    <tr>\n",
       "      <th>4</th>\n",
       "      <td>1433843.0</td>\n",
       "      <td>NEWLINE_TOKENNEWLINE_TOKEN:I replied on .</td>\n",
       "      <td>2003</td>\n",
       "      <td>True</td>\n",
       "      <td>user</td>\n",
       "      <td>random</td>\n",
       "      <td>train</td>\n",
       "    </tr>\n",
       "  </tbody>\n",
       "</table>\n",
       "</div>"
      ],
      "text/plain": [
       "      rev_id                                            comment  year  \\\n",
       "0   527004.0  NEWLINE_TOKENNEWLINE_TOKENNEWLINE_TOKENNEWLINE...  2002   \n",
       "1   603474.0  `:Here I cannot answer your questions.  I did ...  2003   \n",
       "2   808576.0  NEWLINE_TOKENNEWLINE_TOKENIn fact, I've just d...  2003   \n",
       "3   986363.0                             16:13 1 Jun 2003 (UTC)  2003   \n",
       "4  1433843.0        NEWLINE_TOKENNEWLINE_TOKEN:I replied on .    2003   \n",
       "\n",
       "   logged_in       ns  sample  split  \n",
       "0       True     user  random   test  \n",
       "1       True  article  random  train  \n",
       "2       True     user  random    dev  \n",
       "3       True  article  random  train  \n",
       "4       True     user  random  train  "
      ]
     },
     "execution_count": 3,
     "metadata": {},
     "output_type": "execute_result"
    }
   ],
   "source": [
    "df.head()"
   ]
  },
  {
   "cell_type": "code",
   "execution_count": 4,
   "metadata": {},
   "outputs": [
    {
     "data": {
      "text/plain": [
       "3582"
      ]
     },
     "execution_count": 4,
     "metadata": {},
     "output_type": "execute_result"
    }
   ],
   "source": [
    "len(df)"
   ]
  },
  {
   "cell_type": "code",
   "execution_count": 5,
   "metadata": {
    "collapsed": true
   },
   "outputs": [],
   "source": [
    "scores = pd.read_csv('data/toxicity_annotations_unanimous.tsv',  sep='\\t')"
   ]
  },
  {
   "cell_type": "code",
   "execution_count": 6,
   "metadata": {},
   "outputs": [
    {
     "data": {
      "text/html": [
       "<div>\n",
       "<style scoped>\n",
       "    .dataframe tbody tr th:only-of-type {\n",
       "        vertical-align: middle;\n",
       "    }\n",
       "\n",
       "    .dataframe tbody tr th {\n",
       "        vertical-align: top;\n",
       "    }\n",
       "\n",
       "    .dataframe thead th {\n",
       "        text-align: right;\n",
       "    }\n",
       "</style>\n",
       "<table border=\"1\" class=\"dataframe\">\n",
       "  <thead>\n",
       "    <tr style=\"text-align: right;\">\n",
       "      <th></th>\n",
       "      <th>rev_id</th>\n",
       "      <th>worker_id</th>\n",
       "      <th>toxicity</th>\n",
       "      <th>toxicity_score</th>\n",
       "    </tr>\n",
       "  </thead>\n",
       "  <tbody>\n",
       "    <tr>\n",
       "      <th>0</th>\n",
       "      <td>527004.0</td>\n",
       "      <td>3802</td>\n",
       "      <td>0</td>\n",
       "      <td>0.0</td>\n",
       "    </tr>\n",
       "    <tr>\n",
       "      <th>1</th>\n",
       "      <td>527004.0</td>\n",
       "      <td>3942</td>\n",
       "      <td>0</td>\n",
       "      <td>0.0</td>\n",
       "    </tr>\n",
       "    <tr>\n",
       "      <th>2</th>\n",
       "      <td>527004.0</td>\n",
       "      <td>590</td>\n",
       "      <td>0</td>\n",
       "      <td>0.0</td>\n",
       "    </tr>\n",
       "    <tr>\n",
       "      <th>3</th>\n",
       "      <td>527004.0</td>\n",
       "      <td>481</td>\n",
       "      <td>0</td>\n",
       "      <td>0.0</td>\n",
       "    </tr>\n",
       "    <tr>\n",
       "      <th>4</th>\n",
       "      <td>527004.0</td>\n",
       "      <td>3944</td>\n",
       "      <td>0</td>\n",
       "      <td>0.0</td>\n",
       "    </tr>\n",
       "    <tr>\n",
       "      <th>5</th>\n",
       "      <td>527004.0</td>\n",
       "      <td>4172</td>\n",
       "      <td>0</td>\n",
       "      <td>0.0</td>\n",
       "    </tr>\n",
       "    <tr>\n",
       "      <th>6</th>\n",
       "      <td>527004.0</td>\n",
       "      <td>2419</td>\n",
       "      <td>0</td>\n",
       "      <td>0.0</td>\n",
       "    </tr>\n",
       "    <tr>\n",
       "      <th>7</th>\n",
       "      <td>527004.0</td>\n",
       "      <td>3323</td>\n",
       "      <td>0</td>\n",
       "      <td>0.0</td>\n",
       "    </tr>\n",
       "    <tr>\n",
       "      <th>8</th>\n",
       "      <td>527004.0</td>\n",
       "      <td>2851</td>\n",
       "      <td>0</td>\n",
       "      <td>0.0</td>\n",
       "    </tr>\n",
       "    <tr>\n",
       "      <th>9</th>\n",
       "      <td>527004.0</td>\n",
       "      <td>4175</td>\n",
       "      <td>0</td>\n",
       "      <td>0.0</td>\n",
       "    </tr>\n",
       "  </tbody>\n",
       "</table>\n",
       "</div>"
      ],
      "text/plain": [
       "     rev_id  worker_id  toxicity  toxicity_score\n",
       "0  527004.0       3802         0             0.0\n",
       "1  527004.0       3942         0             0.0\n",
       "2  527004.0        590         0             0.0\n",
       "3  527004.0        481         0             0.0\n",
       "4  527004.0       3944         0             0.0\n",
       "5  527004.0       4172         0             0.0\n",
       "6  527004.0       2419         0             0.0\n",
       "7  527004.0       3323         0             0.0\n",
       "8  527004.0       2851         0             0.0\n",
       "9  527004.0       4175         0             0.0"
      ]
     },
     "execution_count": 6,
     "metadata": {},
     "output_type": "execute_result"
    }
   ],
   "source": [
    "scores.head(10)"
   ]
  },
  {
   "cell_type": "code",
   "execution_count": 7,
   "metadata": {
    "collapsed": true
   },
   "outputs": [],
   "source": [
    "scores.drop_duplicates(subset='rev_id', inplace=True)"
   ]
  },
  {
   "cell_type": "code",
   "execution_count": 8,
   "metadata": {},
   "outputs": [
    {
     "data": {
      "text/plain": [
       "3582"
      ]
     },
     "execution_count": 8,
     "metadata": {},
     "output_type": "execute_result"
    }
   ],
   "source": [
    "len(scores)"
   ]
  },
  {
   "cell_type": "code",
   "execution_count": 9,
   "metadata": {
    "collapsed": true
   },
   "outputs": [],
   "source": [
    "df = df.merge(scores, on='rev_id', how='inner')"
   ]
  },
  {
   "cell_type": "code",
   "execution_count": 10,
   "metadata": {},
   "outputs": [
    {
     "data": {
      "text/plain": [
       "3582"
      ]
     },
     "execution_count": 10,
     "metadata": {},
     "output_type": "execute_result"
    }
   ],
   "source": [
    "len(df)"
   ]
  },
  {
   "cell_type": "code",
   "execution_count": 12,
   "metadata": {},
   "outputs": [
    {
     "data": {
      "text/html": [
       "<div>\n",
       "<style scoped>\n",
       "    .dataframe tbody tr th:only-of-type {\n",
       "        vertical-align: middle;\n",
       "    }\n",
       "\n",
       "    .dataframe tbody tr th {\n",
       "        vertical-align: top;\n",
       "    }\n",
       "\n",
       "    .dataframe thead th {\n",
       "        text-align: right;\n",
       "    }\n",
       "</style>\n",
       "<table border=\"1\" class=\"dataframe\">\n",
       "  <thead>\n",
       "    <tr style=\"text-align: right;\">\n",
       "      <th></th>\n",
       "      <th>rev_id</th>\n",
       "      <th>comment</th>\n",
       "      <th>year</th>\n",
       "      <th>logged_in</th>\n",
       "      <th>ns</th>\n",
       "      <th>sample</th>\n",
       "      <th>split</th>\n",
       "      <th>worker_id</th>\n",
       "      <th>toxicity</th>\n",
       "      <th>toxicity_score</th>\n",
       "    </tr>\n",
       "  </thead>\n",
       "  <tbody>\n",
       "    <tr>\n",
       "      <th>0</th>\n",
       "      <td>527004.0</td>\n",
       "      <td>NEWLINE_TOKENNEWLINE_TOKENNEWLINE_TOKENNEWLINE...</td>\n",
       "      <td>2002</td>\n",
       "      <td>True</td>\n",
       "      <td>user</td>\n",
       "      <td>random</td>\n",
       "      <td>test</td>\n",
       "      <td>3802</td>\n",
       "      <td>0</td>\n",
       "      <td>0.0</td>\n",
       "    </tr>\n",
       "    <tr>\n",
       "      <th>1</th>\n",
       "      <td>603474.0</td>\n",
       "      <td>`:Here I cannot answer your questions.  I did ...</td>\n",
       "      <td>2003</td>\n",
       "      <td>True</td>\n",
       "      <td>article</td>\n",
       "      <td>random</td>\n",
       "      <td>train</td>\n",
       "      <td>3278</td>\n",
       "      <td>0</td>\n",
       "      <td>0.0</td>\n",
       "    </tr>\n",
       "    <tr>\n",
       "      <th>2</th>\n",
       "      <td>808576.0</td>\n",
       "      <td>NEWLINE_TOKENNEWLINE_TOKENIn fact, I've just d...</td>\n",
       "      <td>2003</td>\n",
       "      <td>True</td>\n",
       "      <td>user</td>\n",
       "      <td>random</td>\n",
       "      <td>dev</td>\n",
       "      <td>809</td>\n",
       "      <td>0</td>\n",
       "      <td>0.0</td>\n",
       "    </tr>\n",
       "    <tr>\n",
       "      <th>3</th>\n",
       "      <td>986363.0</td>\n",
       "      <td>16:13 1 Jun 2003 (UTC)</td>\n",
       "      <td>2003</td>\n",
       "      <td>True</td>\n",
       "      <td>article</td>\n",
       "      <td>random</td>\n",
       "      <td>train</td>\n",
       "      <td>1081</td>\n",
       "      <td>0</td>\n",
       "      <td>0.0</td>\n",
       "    </tr>\n",
       "    <tr>\n",
       "      <th>4</th>\n",
       "      <td>1433843.0</td>\n",
       "      <td>NEWLINE_TOKENNEWLINE_TOKEN:I replied on .</td>\n",
       "      <td>2003</td>\n",
       "      <td>True</td>\n",
       "      <td>user</td>\n",
       "      <td>random</td>\n",
       "      <td>train</td>\n",
       "      <td>2794</td>\n",
       "      <td>0</td>\n",
       "      <td>0.0</td>\n",
       "    </tr>\n",
       "    <tr>\n",
       "      <th>5</th>\n",
       "      <td>1988528.0</td>\n",
       "      <td>NEWLINE_TOKENHA AH AHA HAHAHAHHAHAHAHHAHAH</td>\n",
       "      <td>2003</td>\n",
       "      <td>False</td>\n",
       "      <td>user</td>\n",
       "      <td>random</td>\n",
       "      <td>train</td>\n",
       "      <td>3374</td>\n",
       "      <td>0</td>\n",
       "      <td>0.0</td>\n",
       "    </tr>\n",
       "    <tr>\n",
       "      <th>6</th>\n",
       "      <td>1988988.0</td>\n",
       "      <td>NEWLINE_TOKENNEWLINE_TOKENNEWLINE_TOKEN Reques...</td>\n",
       "      <td>2003</td>\n",
       "      <td>True</td>\n",
       "      <td>user</td>\n",
       "      <td>random</td>\n",
       "      <td>train</td>\n",
       "      <td>1028</td>\n",
       "      <td>0</td>\n",
       "      <td>0.0</td>\n",
       "    </tr>\n",
       "    <tr>\n",
       "      <th>7</th>\n",
       "      <td>2078042.0</td>\n",
       "      <td>NEWLINE_TOKENNEWLINE_TOKENNEWLINE_TOKENNEWLINE...</td>\n",
       "      <td>2003</td>\n",
       "      <td>True</td>\n",
       "      <td>user</td>\n",
       "      <td>random</td>\n",
       "      <td>train</td>\n",
       "      <td>2059</td>\n",
       "      <td>0</td>\n",
       "      <td>0.0</td>\n",
       "    </tr>\n",
       "    <tr>\n",
       "      <th>8</th>\n",
       "      <td>2747887.0</td>\n",
       "      <td>NEWLINE_TOKENNEWLINE_TOKENOh - well - if you p...</td>\n",
       "      <td>2004</td>\n",
       "      <td>True</td>\n",
       "      <td>user</td>\n",
       "      <td>random</td>\n",
       "      <td>test</td>\n",
       "      <td>1993</td>\n",
       "      <td>0</td>\n",
       "      <td>0.0</td>\n",
       "    </tr>\n",
       "    <tr>\n",
       "      <th>9</th>\n",
       "      <td>2850252.0</td>\n",
       "      <td>NEWLINE_TOKENNEWLINE_TOKENNEWLINE_TOKENNEWLINE...</td>\n",
       "      <td>2004</td>\n",
       "      <td>True</td>\n",
       "      <td>user</td>\n",
       "      <td>random</td>\n",
       "      <td>test</td>\n",
       "      <td>561</td>\n",
       "      <td>0</td>\n",
       "      <td>0.0</td>\n",
       "    </tr>\n",
       "  </tbody>\n",
       "</table>\n",
       "</div>"
      ],
      "text/plain": [
       "      rev_id                                            comment  year  \\\n",
       "0   527004.0  NEWLINE_TOKENNEWLINE_TOKENNEWLINE_TOKENNEWLINE...  2002   \n",
       "1   603474.0  `:Here I cannot answer your questions.  I did ...  2003   \n",
       "2   808576.0  NEWLINE_TOKENNEWLINE_TOKENIn fact, I've just d...  2003   \n",
       "3   986363.0                             16:13 1 Jun 2003 (UTC)  2003   \n",
       "4  1433843.0        NEWLINE_TOKENNEWLINE_TOKEN:I replied on .    2003   \n",
       "5  1988528.0         NEWLINE_TOKENHA AH AHA HAHAHAHHAHAHAHHAHAH  2003   \n",
       "6  1988988.0  NEWLINE_TOKENNEWLINE_TOKENNEWLINE_TOKEN Reques...  2003   \n",
       "7  2078042.0  NEWLINE_TOKENNEWLINE_TOKENNEWLINE_TOKENNEWLINE...  2003   \n",
       "8  2747887.0  NEWLINE_TOKENNEWLINE_TOKENOh - well - if you p...  2004   \n",
       "9  2850252.0  NEWLINE_TOKENNEWLINE_TOKENNEWLINE_TOKENNEWLINE...  2004   \n",
       "\n",
       "   logged_in       ns  sample  split  worker_id  toxicity  toxicity_score  \n",
       "0       True     user  random   test       3802         0             0.0  \n",
       "1       True  article  random  train       3278         0             0.0  \n",
       "2       True     user  random    dev        809         0             0.0  \n",
       "3       True  article  random  train       1081         0             0.0  \n",
       "4       True     user  random  train       2794         0             0.0  \n",
       "5      False     user  random  train       3374         0             0.0  \n",
       "6       True     user  random  train       1028         0             0.0  \n",
       "7       True     user  random  train       2059         0             0.0  \n",
       "8       True     user  random   test       1993         0             0.0  \n",
       "9       True     user  random   test        561         0             0.0  "
      ]
     },
     "execution_count": 12,
     "metadata": {},
     "output_type": "execute_result"
    }
   ],
   "source": [
    "df.head(10)"
   ]
  },
  {
   "cell_type": "code",
   "execution_count": 13,
   "metadata": {},
   "outputs": [],
   "source": [
    "df.drop(columns=['year', 'logged_in', 'split', 'ns', 'sample'], inplace=True)"
   ]
  },
  {
   "cell_type": "code",
   "execution_count": 14,
   "metadata": {},
   "outputs": [
    {
     "data": {
      "text/html": [
       "<div>\n",
       "<style scoped>\n",
       "    .dataframe tbody tr th:only-of-type {\n",
       "        vertical-align: middle;\n",
       "    }\n",
       "\n",
       "    .dataframe tbody tr th {\n",
       "        vertical-align: top;\n",
       "    }\n",
       "\n",
       "    .dataframe thead th {\n",
       "        text-align: right;\n",
       "    }\n",
       "</style>\n",
       "<table border=\"1\" class=\"dataframe\">\n",
       "  <thead>\n",
       "    <tr style=\"text-align: right;\">\n",
       "      <th></th>\n",
       "      <th>rev_id</th>\n",
       "      <th>comment</th>\n",
       "      <th>worker_id</th>\n",
       "      <th>toxicity</th>\n",
       "      <th>toxicity_score</th>\n",
       "    </tr>\n",
       "  </thead>\n",
       "  <tbody>\n",
       "    <tr>\n",
       "      <th>0</th>\n",
       "      <td>527004.0</td>\n",
       "      <td>NEWLINE_TOKENNEWLINE_TOKENNEWLINE_TOKENNEWLINE...</td>\n",
       "      <td>3802</td>\n",
       "      <td>0</td>\n",
       "      <td>0.0</td>\n",
       "    </tr>\n",
       "    <tr>\n",
       "      <th>1</th>\n",
       "      <td>603474.0</td>\n",
       "      <td>`:Here I cannot answer your questions.  I did ...</td>\n",
       "      <td>3278</td>\n",
       "      <td>0</td>\n",
       "      <td>0.0</td>\n",
       "    </tr>\n",
       "    <tr>\n",
       "      <th>2</th>\n",
       "      <td>808576.0</td>\n",
       "      <td>NEWLINE_TOKENNEWLINE_TOKENIn fact, I've just d...</td>\n",
       "      <td>809</td>\n",
       "      <td>0</td>\n",
       "      <td>0.0</td>\n",
       "    </tr>\n",
       "    <tr>\n",
       "      <th>3</th>\n",
       "      <td>986363.0</td>\n",
       "      <td>16:13 1 Jun 2003 (UTC)</td>\n",
       "      <td>1081</td>\n",
       "      <td>0</td>\n",
       "      <td>0.0</td>\n",
       "    </tr>\n",
       "    <tr>\n",
       "      <th>4</th>\n",
       "      <td>1433843.0</td>\n",
       "      <td>NEWLINE_TOKENNEWLINE_TOKEN:I replied on .</td>\n",
       "      <td>2794</td>\n",
       "      <td>0</td>\n",
       "      <td>0.0</td>\n",
       "    </tr>\n",
       "    <tr>\n",
       "      <th>5</th>\n",
       "      <td>1988528.0</td>\n",
       "      <td>NEWLINE_TOKENHA AH AHA HAHAHAHHAHAHAHHAHAH</td>\n",
       "      <td>3374</td>\n",
       "      <td>0</td>\n",
       "      <td>0.0</td>\n",
       "    </tr>\n",
       "    <tr>\n",
       "      <th>6</th>\n",
       "      <td>1988988.0</td>\n",
       "      <td>NEWLINE_TOKENNEWLINE_TOKENNEWLINE_TOKEN Reques...</td>\n",
       "      <td>1028</td>\n",
       "      <td>0</td>\n",
       "      <td>0.0</td>\n",
       "    </tr>\n",
       "    <tr>\n",
       "      <th>7</th>\n",
       "      <td>2078042.0</td>\n",
       "      <td>NEWLINE_TOKENNEWLINE_TOKENNEWLINE_TOKENNEWLINE...</td>\n",
       "      <td>2059</td>\n",
       "      <td>0</td>\n",
       "      <td>0.0</td>\n",
       "    </tr>\n",
       "    <tr>\n",
       "      <th>8</th>\n",
       "      <td>2747887.0</td>\n",
       "      <td>NEWLINE_TOKENNEWLINE_TOKENOh - well - if you p...</td>\n",
       "      <td>1993</td>\n",
       "      <td>0</td>\n",
       "      <td>0.0</td>\n",
       "    </tr>\n",
       "    <tr>\n",
       "      <th>9</th>\n",
       "      <td>2850252.0</td>\n",
       "      <td>NEWLINE_TOKENNEWLINE_TOKENNEWLINE_TOKENNEWLINE...</td>\n",
       "      <td>561</td>\n",
       "      <td>0</td>\n",
       "      <td>0.0</td>\n",
       "    </tr>\n",
       "  </tbody>\n",
       "</table>\n",
       "</div>"
      ],
      "text/plain": [
       "      rev_id                                            comment  worker_id  \\\n",
       "0   527004.0  NEWLINE_TOKENNEWLINE_TOKENNEWLINE_TOKENNEWLINE...       3802   \n",
       "1   603474.0  `:Here I cannot answer your questions.  I did ...       3278   \n",
       "2   808576.0  NEWLINE_TOKENNEWLINE_TOKENIn fact, I've just d...        809   \n",
       "3   986363.0                             16:13 1 Jun 2003 (UTC)       1081   \n",
       "4  1433843.0        NEWLINE_TOKENNEWLINE_TOKEN:I replied on .         2794   \n",
       "5  1988528.0         NEWLINE_TOKENHA AH AHA HAHAHAHHAHAHAHHAHAH       3374   \n",
       "6  1988988.0  NEWLINE_TOKENNEWLINE_TOKENNEWLINE_TOKEN Reques...       1028   \n",
       "7  2078042.0  NEWLINE_TOKENNEWLINE_TOKENNEWLINE_TOKENNEWLINE...       2059   \n",
       "8  2747887.0  NEWLINE_TOKENNEWLINE_TOKENOh - well - if you p...       1993   \n",
       "9  2850252.0  NEWLINE_TOKENNEWLINE_TOKENNEWLINE_TOKENNEWLINE...        561   \n",
       "\n",
       "   toxicity  toxicity_score  \n",
       "0         0             0.0  \n",
       "1         0             0.0  \n",
       "2         0             0.0  \n",
       "3         0             0.0  \n",
       "4         0             0.0  \n",
       "5         0             0.0  \n",
       "6         0             0.0  \n",
       "7         0             0.0  \n",
       "8         0             0.0  \n",
       "9         0             0.0  "
      ]
     },
     "execution_count": 14,
     "metadata": {},
     "output_type": "execute_result"
    }
   ],
   "source": [
    "df.head(10)"
   ]
  },
  {
   "cell_type": "code",
   "execution_count": 15,
   "metadata": {
    "collapsed": true
   },
   "outputs": [],
   "source": [
    "df['comment'] = df['comment'].apply(lambda x: re.sub('NEWLINE_TOKEN', '', x))"
   ]
  },
  {
   "cell_type": "code",
   "execution_count": 16,
   "metadata": {},
   "outputs": [],
   "source": [
    "df['toxic'] = df['toxicity_score'].apply(lambda x: int(x < 0))"
   ]
  },
  {
   "cell_type": "code",
   "execution_count": 17,
   "metadata": {},
   "outputs": [],
   "source": [
    "df.drop(columns=['toxicity', 'toxicity_score'], inplace=True)"
   ]
  },
  {
   "cell_type": "code",
   "execution_count": 18,
   "metadata": {},
   "outputs": [],
   "source": [
    "df.sort_values(['toxic'], ascending=False, inplace=True)"
   ]
  },
  {
   "cell_type": "code",
   "execution_count": 20,
   "metadata": {},
   "outputs": [
    {
     "data": {
      "text/html": [
       "<div>\n",
       "<style scoped>\n",
       "    .dataframe tbody tr th:only-of-type {\n",
       "        vertical-align: middle;\n",
       "    }\n",
       "\n",
       "    .dataframe tbody tr th {\n",
       "        vertical-align: top;\n",
       "    }\n",
       "\n",
       "    .dataframe thead th {\n",
       "        text-align: right;\n",
       "    }\n",
       "</style>\n",
       "<table border=\"1\" class=\"dataframe\">\n",
       "  <thead>\n",
       "    <tr style=\"text-align: right;\">\n",
       "      <th></th>\n",
       "      <th>rev_id</th>\n",
       "      <th>comment</th>\n",
       "      <th>worker_id</th>\n",
       "      <th>toxic</th>\n",
       "    </tr>\n",
       "  </thead>\n",
       "  <tbody>\n",
       "    <tr>\n",
       "      <th>3581</th>\n",
       "      <td>699660419.0</td>\n",
       "      <td>what ever you fuggin fagQuestion how did you k...</td>\n",
       "      <td>642</td>\n",
       "      <td>1</td>\n",
       "    </tr>\n",
       "    <tr>\n",
       "      <th>2507</th>\n",
       "      <td>459810020.0</td>\n",
       "      <td>==You absolute spastic==I am right, Username72...</td>\n",
       "      <td>784</td>\n",
       "      <td>1</td>\n",
       "    </tr>\n",
       "    <tr>\n",
       "      <th>846</th>\n",
       "      <td>145045349.0</td>\n",
       "      <td>Racist?  Are you crazy?  I thought that you we...</td>\n",
       "      <td>695</td>\n",
       "      <td>1</td>\n",
       "    </tr>\n",
       "    <tr>\n",
       "      <th>2789</th>\n",
       "      <td>516983664.0</td>\n",
       "      <td>Intro should say that the Tea Party are a whit...</td>\n",
       "      <td>877</td>\n",
       "      <td>1</td>\n",
       "    </tr>\n",
       "    <tr>\n",
       "      <th>824</th>\n",
       "      <td>140385226.0</td>\n",
       "      <td>it should be biased against those soulless fuc...</td>\n",
       "      <td>340</td>\n",
       "      <td>1</td>\n",
       "    </tr>\n",
       "    <tr>\n",
       "      <th>2829</th>\n",
       "      <td>528187898.0</td>\n",
       "      <td>==message to attackers==Leave him alone. what ...</td>\n",
       "      <td>1393</td>\n",
       "      <td>1</td>\n",
       "    </tr>\n",
       "    <tr>\n",
       "      <th>2831</th>\n",
       "      <td>528427363.0</td>\n",
       "      <td>this is your last warning stop violating multi...</td>\n",
       "      <td>3942</td>\n",
       "      <td>1</td>\n",
       "    </tr>\n",
       "    <tr>\n",
       "      <th>778</th>\n",
       "      <td>129871433.0</td>\n",
       "      <td>YOU SUCK YOU SUCK YOU SUCK YOU SUCK YOU SUCK Y...</td>\n",
       "      <td>3330</td>\n",
       "      <td>1</td>\n",
       "    </tr>\n",
       "    <tr>\n",
       "      <th>2845</th>\n",
       "      <td>531565847.0</td>\n",
       "      <td>`::::::::::::::::::::::::I've told you, in goo...</td>\n",
       "      <td>597</td>\n",
       "      <td>1</td>\n",
       "    </tr>\n",
       "    <tr>\n",
       "      <th>2852</th>\n",
       "      <td>532661527.0</td>\n",
       "      <td>==TIME?==Talk about unprofessional garbage. Th...</td>\n",
       "      <td>3720</td>\n",
       "      <td>1</td>\n",
       "    </tr>\n",
       "  </tbody>\n",
       "</table>\n",
       "</div>"
      ],
      "text/plain": [
       "           rev_id                                            comment  \\\n",
       "3581  699660419.0  what ever you fuggin fagQuestion how did you k...   \n",
       "2507  459810020.0  ==You absolute spastic==I am right, Username72...   \n",
       "846   145045349.0  Racist?  Are you crazy?  I thought that you we...   \n",
       "2789  516983664.0  Intro should say that the Tea Party are a whit...   \n",
       "824   140385226.0  it should be biased against those soulless fuc...   \n",
       "2829  528187898.0  ==message to attackers==Leave him alone. what ...   \n",
       "2831  528427363.0  this is your last warning stop violating multi...   \n",
       "778   129871433.0  YOU SUCK YOU SUCK YOU SUCK YOU SUCK YOU SUCK Y...   \n",
       "2845  531565847.0  `::::::::::::::::::::::::I've told you, in goo...   \n",
       "2852  532661527.0  ==TIME?==Talk about unprofessional garbage. Th...   \n",
       "\n",
       "      worker_id  toxic  \n",
       "3581        642      1  \n",
       "2507        784      1  \n",
       "846         695      1  \n",
       "2789        877      1  \n",
       "824         340      1  \n",
       "2829       1393      1  \n",
       "2831       3942      1  \n",
       "778        3330      1  \n",
       "2845        597      1  \n",
       "2852       3720      1  "
      ]
     },
     "execution_count": 20,
     "metadata": {},
     "output_type": "execute_result"
    }
   ],
   "source": [
    "df.head(10)"
   ]
  },
  {
   "cell_type": "markdown",
   "metadata": {},
   "source": [
    "# Pre-process"
   ]
  },
  {
   "cell_type": "code",
   "execution_count": 21,
   "metadata": {
    "collapsed": true
   },
   "outputs": [],
   "source": [
    "simple_tokens = df.comment.apply(gensim.utils.simple_preprocess)"
   ]
  },
  {
   "cell_type": "code",
   "execution_count": 22,
   "metadata": {
    "collapsed": true
   },
   "outputs": [],
   "source": [
    "phrases = gensim.models.phrases.Phrases(simple_tokens)\n",
    "tokenizer = gensim.models.phrases.Phraser(phrases)"
   ]
  },
  {
   "cell_type": "code",
   "execution_count": 23,
   "metadata": {
    "collapsed": true
   },
   "outputs": [],
   "source": [
    "tokenized_text = list(tokenizer[simple_tokens])"
   ]
  },
  {
   "cell_type": "code",
   "execution_count": 24,
   "metadata": {},
   "outputs": [
    {
     "data": {
      "text/plain": [
       "['what',\n",
       " 'ever',\n",
       " 'you',\n",
       " 'fuggin',\n",
       " 'fagquestion',\n",
       " 'how',\n",
       " 'did',\n",
       " 'you',\n",
       " 'know',\n",
       " 'they',\n",
       " 'were',\n",
       " 'not',\n",
       " 'mine']"
      ]
     },
     "execution_count": 24,
     "metadata": {},
     "output_type": "execute_result"
    }
   ],
   "source": [
    "tokenized_text[0]"
   ]
  },
  {
   "cell_type": "code",
   "execution_count": 25,
   "metadata": {
    "collapsed": true
   },
   "outputs": [],
   "source": [
    "corpus_dict = gensim.corpora.dictionary.Dictionary(tokenized_text)"
   ]
  },
  {
   "cell_type": "code",
   "execution_count": 26,
   "metadata": {},
   "outputs": [
    {
     "data": {
      "text/plain": [
       "Index(['rev_id', 'comment', 'worker_id', 'toxic'], dtype='object')"
      ]
     },
     "execution_count": 26,
     "metadata": {},
     "output_type": "execute_result"
    }
   ],
   "source": [
    "df.columns"
   ]
  },
  {
   "cell_type": "code",
   "execution_count": 27,
   "metadata": {},
   "outputs": [],
   "source": [
    "TARGET_CLASSES = ['toxic']\n",
    "targets = df[TARGET_CLASSES].values"
   ]
  },
  {
   "cell_type": "code",
   "execution_count": 28,
   "metadata": {},
   "outputs": [
    {
     "data": {
      "text/plain": [
       "array([[1],\n",
       "       [1],\n",
       "       [1],\n",
       "       ..., \n",
       "       [0],\n",
       "       [0],\n",
       "       [0]])"
      ]
     },
     "execution_count": 28,
     "metadata": {},
     "output_type": "execute_result"
    }
   ],
   "source": [
    "targets"
   ]
  },
  {
   "cell_type": "markdown",
   "metadata": {},
   "source": [
    "# Analysis"
   ]
  },
  {
   "cell_type": "code",
   "execution_count": 29,
   "metadata": {},
   "outputs": [
    {
     "data": {
      "text/plain": [
       "(0, 400)"
      ]
     },
     "execution_count": 29,
     "metadata": {},
     "output_type": "execute_result"
    },
    {
     "data": {
      "image/png": "[encoded data removed]",
      "text/plain": [
       "<matplotlib.figure.Figure at 0x120bc4e48>"
      ]
     },
     "metadata": {},
     "output_type": "display_data"
    }
   ],
   "source": [
    "sns.distplot([len(doc) for doc in tokenized_text], bins=100, kde=False, label='Number of tokens per comment.')\n",
    "plt.xlabel(\"Tokens in a comment\")\n",
    "plt.ylabel(\"Frequency\")\n",
    "plt.xlim((0, 400))"
   ]
  },
  {
   "cell_type": "markdown",
   "metadata": {},
   "source": [
    "# Training word2vec on comment data."
   ]
  },
  {
   "cell_type": "code",
   "execution_count": 30,
   "metadata": {
    "collapsed": true
   },
   "outputs": [],
   "source": [
    "word2vec = gensim.models.word2vec.Word2Vec(tokenized_text, window=5, size=100, min_count=2, workers=6)"
   ]
  },
  {
   "cell_type": "code",
   "execution_count": 31,
   "metadata": {},
   "outputs": [
    {
     "data": {
      "text/plain": [
       "[('been', 0.999602735042572),\n",
       " ('the_same', 0.9995899200439453),\n",
       " ('am', 0.9995876550674438),\n",
       " ('very', 0.9995816349983215),\n",
       " ('time', 0.9995666146278381),\n",
       " ('before', 0.9995635747909546),\n",
       " ('section', 0.9995619058609009),\n",
       " ('another', 0.9995591044425964),\n",
       " ('editing', 0.9995579123497009),\n",
       " ('has', 0.9995574951171875)]"
      ]
     },
     "execution_count": 31,
     "metadata": {},
     "output_type": "execute_result"
    }
   ],
   "source": [
    "word2vec.wv.most_similar('citation')"
   ]
  },
  {
   "cell_type": "code",
   "execution_count": 32,
   "metadata": {},
   "outputs": [
    {
     "data": {
      "text/plain": [
       "[('always', 0.9978344440460205),\n",
       " ('best', 0.9975923895835876),\n",
       " ('do_not', 0.9975626468658447),\n",
       " ('christopher', 0.9975571632385254),\n",
       " ('hunter', 0.9975089430809021),\n",
       " ('are_foreigners', 0.9974634647369385),\n",
       " ('world', 0.9974256753921509),\n",
       " ('history', 0.9973925948143005),\n",
       " ('sa_oi', 0.997319221496582),\n",
       " ('through', 0.9973117709159851)]"
      ]
     },
     "execution_count": 32,
     "metadata": {},
     "output_type": "execute_result"
    }
   ],
   "source": [
    "word2vec.wv.most_similar('fuck')"
   ]
  },
  {
   "cell_type": "markdown",
   "metadata": {},
   "source": [
    "# word2vec-based based model.\n",
    "\n",
    "Aggregate word embeddings per comment (~ tf-idf weighted averaging), and use that as an input feature in a neural net with one hidden layer."
   ]
  },
  {
   "cell_type": "code",
   "execution_count": 33,
   "metadata": {
    "collapsed": true
   },
   "outputs": [],
   "source": [
    "features = np.zeros((len(tokenized_text), word2vec.vector_size))\n",
    "for i, tokens in enumerate(tokenized_text):\n",
    "    tokens = [t for t in tokens if t in word2vec.wv.vocab]\n",
    "    if tokens:\n",
    "        features[i, :] = np.mean([word2vec.wv[t] / word2vec.wv.vocab[t].count for t in tokens], axis=0)"
   ]
  },
  {
   "cell_type": "code",
   "execution_count": 34,
   "metadata": {},
   "outputs": [
    {
     "data": {
      "text/plain": [
       "(3582, 100)"
      ]
     },
     "execution_count": 34,
     "metadata": {},
     "output_type": "execute_result"
    }
   ],
   "source": [
    "features.shape"
   ]
  },
  {
   "cell_type": "code",
   "execution_count": 35,
   "metadata": {},
   "outputs": [
    {
     "data": {
      "text/plain": [
       "(3582, 1)"
      ]
     },
     "execution_count": 35,
     "metadata": {},
     "output_type": "execute_result"
    }
   ],
   "source": [
    "targets.shape"
   ]
  },
  {
   "cell_type": "code",
   "execution_count": 36,
   "metadata": {},
   "outputs": [
    {
     "data": {
      "text/plain": [
       "1"
      ]
     },
     "execution_count": 36,
     "metadata": {},
     "output_type": "execute_result"
    }
   ],
   "source": [
    "len(TARGET_CLASSES)"
   ]
  },
  {
   "cell_type": "code",
   "execution_count": 37,
   "metadata": {
    "collapsed": true
   },
   "outputs": [],
   "source": [
    "model = Sequential()\n",
    "model.add(Dense(256, activation='relu', input_shape=(word2vec.vector_size,)))\n",
    "model.add(Dense(128, activation='relu'))\n",
    "model.add(Dense(len(TARGET_CLASSES), activation='sigmoid'))\n",
    "model.compile(optimizer=Adam(lr=0.001), loss='binary_crossentropy', metrics=['accuracy'])"
   ]
  },
  {
   "cell_type": "code",
   "execution_count": 38,
   "metadata": {},
   "outputs": [
    {
     "name": "stdout",
     "output_type": "stream",
     "text": [
      "Train on 3223 samples, validate on 359 samples\n",
      "Epoch 1/10\n",
      "3223/3223 [==============================] - 1s 161us/step - loss: 0.2939 - acc: 0.9469 - val_loss: 0.0640 - val_acc: 1.0000\n",
      "Epoch 2/10\n",
      "3223/3223 [==============================] - 0s 51us/step - loss: 0.2071 - acc: 0.9469 - val_loss: 0.0427 - val_acc: 1.0000\n",
      "Epoch 3/10\n",
      "3223/3223 [==============================] - 0s 49us/step - loss: 0.2090 - acc: 0.9469 - val_loss: 0.0647 - val_acc: 1.0000\n",
      "Epoch 4/10\n",
      "3223/3223 [==============================] - 0s 52us/step - loss: 0.2063 - acc: 0.9469 - val_loss: 0.0540 - val_acc: 1.0000\n",
      "Epoch 5/10\n",
      "3223/3223 [==============================] - 0s 48us/step - loss: 0.2070 - acc: 0.9469 - val_loss: 0.0628 - val_acc: 1.0000\n",
      "Epoch 6/10\n",
      "3223/3223 [==============================] - 0s 51us/step - loss: 0.2051 - acc: 0.9469 - val_loss: 0.0343 - val_acc: 1.0000\n",
      "Epoch 7/10\n",
      "3223/3223 [==============================] - 0s 48us/step - loss: 0.2063 - acc: 0.9469 - val_loss: 0.0614 - val_acc: 1.0000\n",
      "Epoch 8/10\n",
      "3223/3223 [==============================] - 0s 52us/step - loss: 0.2043 - acc: 0.9469 - val_loss: 0.0714 - val_acc: 1.0000\n",
      "Epoch 9/10\n",
      "3223/3223 [==============================] - 0s 48us/step - loss: 0.2064 - acc: 0.9469 - val_loss: 0.0475 - val_acc: 1.0000\n",
      "Epoch 10/10\n",
      "3223/3223 [==============================] - 0s 51us/step - loss: 0.2043 - acc: 0.9469 - val_loss: 0.0711 - val_acc: 1.0000\n"
     ]
    },
    {
     "data": {
      "text/plain": [
       "<keras.callbacks.History at 0x122171e10>"
      ]
     },
     "execution_count": 38,
     "metadata": {},
     "output_type": "execute_result"
    }
   ],
   "source": [
    "model.fit(features, targets, epochs=10, validation_split=0.1)"
   ]
  },
  {
   "cell_type": "markdown",
   "metadata": {},
   "source": [
    "# Sequential models\n",
    "\n",
    "Simply averaging embeddings across all terms in a comment loses interactions that can occur between words, and the importance of their position. Because of this, we will now experiment with position-aware models: LSTM and CNN."
   ]
  },
  {
   "cell_type": "code",
   "execution_count": 39,
   "metadata": {
    "collapsed": true
   },
   "outputs": [],
   "source": [
    "# Note: shifting indices by 1 as index 0 will be used for padding.\n",
    "docs = [[idx + 1 for idx in corpus_dict.doc2idx(doc)]  for doc in tokenized_text]"
   ]
  },
  {
   "cell_type": "code",
   "execution_count": 40,
   "metadata": {
    "collapsed": true
   },
   "outputs": [],
   "source": [
    "MAX_SEQ_LEN = 50\n",
    "padded_docs = keras.preprocessing.sequence.pad_sequences(docs, maxlen=MAX_SEQ_LEN, truncating='post', value=0)"
   ]
  },
  {
   "cell_type": "code",
   "execution_count": 41,
   "metadata": {},
   "outputs": [
    {
     "data": {
      "text/plain": [
       "9957"
      ]
     },
     "execution_count": 41,
     "metadata": {},
     "output_type": "execute_result"
    }
   ],
   "source": [
    "max_idx = max(c for d in docs for c in d)\n",
    "max_idx"
   ]
  },
  {
   "cell_type": "code",
   "execution_count": 42,
   "metadata": {
    "collapsed": true
   },
   "outputs": [],
   "source": [
    "embeddings = np.array([np.random.normal(size=word2vec.vector_size)]+ # for the '0' padding word\n",
    "                      [word2vec.wv[corpus_dict[idx]]\n",
    "                      if corpus_dict[idx] in word2vec.wv.vocab\n",
    "                      else np.random.normal(size=word2vec.vector_size)\n",
    "                      for idx in range(max_idx)])"
   ]
  },
  {
   "cell_type": "markdown",
   "metadata": {},
   "source": [
    "## CNN"
   ]
  },
  {
   "cell_type": "code",
   "execution_count": 43,
   "metadata": {},
   "outputs": [],
   "source": [
    "from keras.models import Sequential\n",
    "from keras.layers.embeddings import Embedding\n",
    "from keras.layers.recurrent import SimpleRNN\n",
    "from keras.layers.core import Dense, Dropout\n",
    "from keras.layers.wrappers import TimeDistributed\n",
    "from keras.layers import Convolution1D, MaxPool1D, Flatten, BatchNormalization\n",
    "\n",
    "model = Sequential()\n",
    "model.add(Embedding(max_idx + 1, word2vec.vector_size, input_length=MAX_SEQ_LEN))\n",
    "model.add(Dropout(0.5))\n",
    "model.add(BatchNormalization())\n",
    "model.add(Convolution1D(52, 5, padding='same',\n",
    "                        kernel_regularizer=keras.regularizers.l2(0.01)))\n",
    "model.add(MaxPool1D())\n",
    "model.add(Dropout(0.5))\n",
    "model.add(BatchNormalization())\n",
    "model.add(Convolution1D(128, 3, padding='same',\n",
    "                        kernel_regularizer=keras.regularizers.l2(0.01)))\n",
    "model.add(MaxPool1D())\n",
    "model.add(Flatten())\n",
    "model.add(Dense(len(TARGET_CLASSES), activation='sigmoid',\n",
    "                kernel_regularizer=keras.regularizers.l2(0.02)))\n",
    "model.compile(Adam(0.001), loss='binary_crossentropy', metrics=['accuracy'])"
   ]
  },
  {
   "cell_type": "code",
   "execution_count": 44,
   "metadata": {},
   "outputs": [
    {
     "name": "stdout",
     "output_type": "stream",
     "text": [
      "Train on 3223 samples, validate on 359 samples\n",
      "Epoch 1/20\n",
      "3223/3223 [==============================] - 2s 701us/step - loss: 1.7133 - acc: 0.9153 - val_loss: 1.8461 - val_acc: 1.0000\n",
      "Epoch 2/20\n",
      "3223/3223 [==============================] - 1s 390us/step - loss: 1.5117 - acc: 0.9460 - val_loss: 1.6800 - val_acc: 1.0000\n",
      "Epoch 3/20\n",
      "3223/3223 [==============================] - 1s 380us/step - loss: 1.3427 - acc: 0.9485 - val_loss: 1.5959 - val_acc: 1.0000\n",
      "Epoch 4/20\n",
      "3223/3223 [==============================] - 1s 400us/step - loss: 1.1970 - acc: 0.9497 - val_loss: 1.4288 - val_acc: 1.0000\n",
      "Epoch 5/20\n",
      "3223/3223 [==============================] - 1s 415us/step - loss: 1.0619 - acc: 0.9510 - val_loss: 1.2637 - val_acc: 1.0000\n",
      "Epoch 6/20\n",
      "3223/3223 [==============================] - 1s 431us/step - loss: 0.9348 - acc: 0.9572 - val_loss: 1.1461 - val_acc: 1.0000\n",
      "Epoch 7/20\n",
      "3223/3223 [==============================] - 1s 394us/step - loss: 0.8233 - acc: 0.9594 - val_loss: 0.9982 - val_acc: 1.0000\n",
      "Epoch 8/20\n",
      "3223/3223 [==============================] - 1s 382us/step - loss: 0.7146 - acc: 0.9680 - val_loss: 0.8504 - val_acc: 1.0000\n",
      "Epoch 9/20\n",
      "3223/3223 [==============================] - 1s 435us/step - loss: 0.6131 - acc: 0.9755 - val_loss: 0.7160 - val_acc: 1.0000\n",
      "Epoch 10/20\n",
      "3223/3223 [==============================] - 1s 382us/step - loss: 0.5319 - acc: 0.9832 - val_loss: 0.5990 - val_acc: 1.0000\n",
      "Epoch 11/20\n",
      "3223/3223 [==============================] - 1s 380us/step - loss: 0.4548 - acc: 0.9857 - val_loss: 0.5127 - val_acc: 1.0000\n",
      "Epoch 12/20\n",
      "3223/3223 [==============================] - 1s 374us/step - loss: 0.3899 - acc: 0.9926 - val_loss: 0.4476 - val_acc: 1.0000\n",
      "Epoch 13/20\n",
      "3223/3223 [==============================] - 1s 384us/step - loss: 0.3351 - acc: 0.9929 - val_loss: 0.3974 - val_acc: 1.0000\n",
      "Epoch 14/20\n",
      "3223/3223 [==============================] - 1s 436us/step - loss: 0.2876 - acc: 0.9963 - val_loss: 0.3567 - val_acc: 1.0000\n",
      "Epoch 15/20\n",
      "3223/3223 [==============================] - 1s 393us/step - loss: 0.2482 - acc: 0.9978 - val_loss: 0.3244 - val_acc: 1.0000\n",
      "Epoch 16/20\n",
      "3223/3223 [==============================] - 1s 392us/step - loss: 0.2140 - acc: 0.9988 - val_loss: 0.2982 - val_acc: 1.0000\n",
      "Epoch 17/20\n",
      "3223/3223 [==============================] - 1s 401us/step - loss: 0.1859 - acc: 0.9988 - val_loss: 0.2758 - val_acc: 1.0000\n",
      "Epoch 18/20\n",
      "3223/3223 [==============================] - 1s 396us/step - loss: 0.1606 - acc: 0.9991 - val_loss: 0.2581 - val_acc: 1.0000\n",
      "Epoch 19/20\n",
      "3223/3223 [==============================] - 1s 385us/step - loss: 0.1391 - acc: 0.9997 - val_loss: 0.2392 - val_acc: 1.0000\n",
      "Epoch 20/20\n",
      "3223/3223 [==============================] - 1s 400us/step - loss: 0.1213 - acc: 0.9997 - val_loss: 0.2266 - val_acc: 1.0000\n"
     ]
    },
    {
     "data": {
      "text/plain": [
       "<keras.callbacks.History at 0x1240cee48>"
      ]
     },
     "execution_count": 44,
     "metadata": {},
     "output_type": "execute_result"
    }
   ],
   "source": [
    "model.fit(padded_docs, targets, batch_size=512, epochs=20, validation_split=0.1)"
   ]
  },
  {
   "cell_type": "markdown",
   "metadata": {},
   "source": [
    "# Creating a submission."
   ]
  },
  {
   "cell_type": "code",
   "execution_count": 45,
   "metadata": {
    "collapsed": true
   },
   "outputs": [],
   "source": [
    "def comment_to_sequential_input(comment):\n",
    "    tokens = tokenizer[gensim.utils.simple_preprocess(comment)]\n",
    "    t_ids = [corpus_dict.token2id[t] + 1 for t in tokens if t in word2vec.wv.vocab and t in corpus_dict.token2id]\n",
    "    return keras.preprocessing.sequence.pad_sequences([t_ids], maxlen=MAX_SEQ_LEN)[0]"
   ]
  },
  {
   "cell_type": "code",
   "execution_count": 46,
   "metadata": {},
   "outputs": [
    {
     "name": "stdout",
     "output_type": "stream",
     "text": [
      "toxic: 11.80%\n"
     ]
    }
   ],
   "source": [
    "test_input = [comment_to_sequential_input(\"Why are we having all these people from shithole countries come here?\").reshape(1, -1)]\n",
    "for target_class, score in zip(TARGET_CLASSES, model.predict(test_input)[0]):\n",
    "    print(\"{}: {:.2f}%\".format(target_class, score * 100))"
   ]
  },
  {
   "cell_type": "code",
   "execution_count": 47,
   "metadata": {},
   "outputs": [
    {
     "data": {
      "text/plain": [
       "array([[ 0.1180065]], dtype=float32)"
      ]
     },
     "execution_count": 47,
     "metadata": {},
     "output_type": "execute_result"
    }
   ],
   "source": [
    "model.predict_proba(test_input)"
   ]
  },
  {
   "cell_type": "code",
   "execution_count": 48,
   "metadata": {},
   "outputs": [],
   "source": [
    "test_text = df.iloc[0].comment"
   ]
  },
  {
   "cell_type": "code",
   "execution_count": 49,
   "metadata": {},
   "outputs": [
    {
     "name": "stdout",
     "output_type": "stream",
     "text": [
      "toxic: 13.14%\n"
     ]
    }
   ],
   "source": [
    "test_input = [comment_to_sequential_input(test_text).reshape(1, -1)]\n",
    "for target_class, score in zip(TARGET_CLASSES, model.predict(test_input)[0]):\n",
    "    print(\"{}: {:.2f}%\".format(target_class, score * 100))"
   ]
  },
  {
   "cell_type": "code",
   "execution_count": 50,
   "metadata": {
    "collapsed": true
   },
   "outputs": [],
   "source": [
    "test_text = \"Now is the time for all good persons to come to the aid of their country\""
   ]
  },
  {
   "cell_type": "code",
   "execution_count": 51,
   "metadata": {},
   "outputs": [
    {
     "name": "stdout",
     "output_type": "stream",
     "text": [
      "toxic: 11.36%\n"
     ]
    }
   ],
   "source": [
    "test_input = [comment_to_sequential_input(test_text).reshape(1, -1)]\n",
    "for target_class, score in zip(TARGET_CLASSES, model.predict(test_input)[0]):\n",
    "    print(\"{}: {:.2f}%\".format(target_class, score * 100))"
   ]
  },
  {
   "cell_type": "code",
   "execution_count": null,
   "metadata": {
    "collapsed": true
   },
   "outputs": [],
   "source": [
    "test_inputs = np.array([comment_to_sequential_input(doc) for doc in df_test.comment_text])"
   ]
  },
  {
   "cell_type": "code",
   "execution_count": null,
   "metadata": {},
   "outputs": [],
   "source": [
    "test_outputs = model.predict_classes(test_inputs)"
   ]
  },
  {
   "cell_type": "code",
   "execution_count": null,
   "metadata": {},
   "outputs": [],
   "source": [
    "test_outputs[0]"
   ]
  },
  {
   "cell_type": "code",
   "execution_count": null,
   "metadata": {
    "collapsed": true
   },
   "outputs": [],
   "source": [
    "output_df = df_test.reset_index()[['id']].copy()"
   ]
  },
  {
   "cell_type": "code",
   "execution_count": null,
   "metadata": {
    "collapsed": true
   },
   "outputs": [],
   "source": [
    "for i, target_class in enumerate(TARGET_CLASSES):\n",
    "    output_df[target_class] = test_outputs[:, i]"
   ]
  },
  {
   "cell_type": "code",
   "execution_count": null,
   "metadata": {},
   "outputs": [],
   "source": [
    "output_df[output_df.toxic > 0.5].sample(10, random_state=0).merge(df_test.reset_index(), on='id')"
   ]
  },
  {
   "cell_type": "code",
   "execution_count": null,
   "metadata": {
    "collapsed": true
   },
   "outputs": [],
   "source": [
    "output_df.to_csv('submissions/cnn_0.csv', index=False)"
   ]
  },
  {
   "cell_type": "markdown",
   "metadata": {},
   "source": [
    "# Annex"
   ]
  },
  {
   "cell_type": "code",
   "execution_count": null,
   "metadata": {},
   "outputs": [],
   "source": [
    "from keras.models import Sequential\n",
    "from keras.layers import Convolution1D, Dense\n",
    "\n",
    "model = Sequential()\n",
    "model.add(Embedding(word2vec.vector_size))\n",
    "model.add(Dense(512, activation='relu'))\n",
    "model.add(Dense(len(TARGET_CLASSES), activation='sigmoid'))\n",
    "model.compile(optimizer='adam', loss='binary_crossentropy', metrics=['accuracy'])"
   ]
  },
  {
   "cell_type": "code",
   "execution_count": null,
   "metadata": {
    "collapsed": true
   },
   "outputs": [],
   "source": [
    "def tokens_to_embedding(tokens):\n",
    "    embeddings = [word2vec.wv[t] / word2vec.wv.vocab[t].count for t in tokens if t in word2vec.wv.vocab]\n",
    "    if embeddings:\n",
    "        return np.mean(embeddings, axis=0)\n",
    "    else:\n",
    "        return np.zeros(word2vec.vector_size)\n",
    "\n",
    "def text_to_embedding(text):\n",
    "    return tokens_to_embedding(tokenizer[gensim.utils.simple_preprocess(text)])\n",
    "\n",
    "text = 'hello moroccan friend is just a regular message without any insults'\n",
    "model.predict(text_to_embedding(text).reshape(1, -1))"
   ]
  },
  {
   "cell_type": "code",
   "execution_count": null,
   "metadata": {
    "collapsed": true
   },
   "outputs": [],
   "source": [
    "test_tokens = tokenizer[df_test.comment_text.apply(gensim.utils.simple_preprocess)]"
   ]
  },
  {
   "cell_type": "code",
   "execution_count": null,
   "metadata": {
    "collapsed": true
   },
   "outputs": [],
   "source": [
    "test_features = [tokens_to_embedding(tokens) for tokens in test_tokens]"
   ]
  }
 ],
 "metadata": {
  "kernelspec": {
   "display_name": "Python [default]",
   "language": "python",
   "name": "python3"
  },
  "language_info": {
   "codemirror_mode": {
    "name": "ipython",
    "version": 3
   },
   "file_extension": ".py",
   "mimetype": "text/x-python",
   "name": "python",
   "nbconvert_exporter": "python",
   "pygments_lexer": "ipython3",
   "version": "3.6.2"
  }
 },
 "nbformat": 4,
 "nbformat_minor": 2
}
